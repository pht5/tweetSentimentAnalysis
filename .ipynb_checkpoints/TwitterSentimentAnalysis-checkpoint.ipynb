{
 "cells": [
  {
   "cell_type": "code",
   "execution_count": 4,
   "metadata": {
    "collapsed": true
   },
   "outputs": [],
   "source": [
    "## Initialization cell ##\n",
    "\n",
    "import requests\n",
    "import oauth2\n",
    "import json\n",
    "import pickle \n",
    "import os\n",
    "\n",
    "## Twitter Init ##\n",
    "with open(\"twitter_auth.json\", 'r') as f:\n",
    "    auth_codes = json.load(f)\n",
    "    \n",
    "## Pickle file Init ##\n",
    "def load_pickle(fname):\n",
    "    with open(fname, 'rb') as f:\n",
    "        data = pickle.load(f)\n",
    "    return data\n",
    "    \n",
    "def add_to_pickle_file(fname, new_data):\n",
    "    # Given a pickle filename, append to it the new data (in our case, a list of dicts)\n",
    "   \n",
    "    # Check that file is not empty, otherwise initialize\n",
    "    if os.path.getsize(fname) > 0:      \n",
    "        with open(fname, 'rb') as f:\n",
    "            unpickler = pickle.Unpickler(f);\n",
    "            data = unpickler.load()\n",
    "    else:\n",
    "        data = []\n",
    "    \n",
    "    print(\"Old length of file: {:d}\".format(len(data)))\n",
    "    data = data + new_data\n",
    "    print(\"New length of file: {:d}\".format(len(data)))\n",
    "    \n",
    "    with open(fname, 'wb') as f:\n",
    "        pickle.dump(data, f)\n",
    "\n",
    "\n",
    "pickle_file = \"ben_labels.pckl\"\n",
    "# pickle_file = \"patrick_labels.pckl\"\n",
    "\n",
    "## Positive and negative lexicon import ##\n",
    "def read_text(filename, comment=\";\"):\n",
    "    \"\"\" Given a filename, read in every line that is not commented\"\"\"\n",
    "    f = open(filename, 'r', encoding='ISO-8859-1')\n",
    "    out_list = []\n",
    "    \n",
    "    for line in f:\n",
    "        if line[0] != comment:\n",
    "            out_list.append(line.strip('\\n'))\n",
    "    \n",
    "    f.close()\n",
    "    \n",
    "    return out_list\n",
    "\n",
    "pos_vocab = read_text(\"positive-words.txt\")\n",
    "neg_vocab = read_text(\"negative-words.txt\")\n",
    "\n",
    "## Lexicon of English import ##\n",
    "def read_words(filename):\n",
    "    out = []\n",
    "    with open(filename, 'r') as f:\n",
    "        for line in f:\n",
    "            out.append(line.strip('\\n'))\n",
    "    return out\n",
    "\n",
    "english_words = read_words(\"words_alpha.txt\")\n"
   ]
  },
  {
   "cell_type": "code",
   "execution_count": null,
   "metadata": {
    "collapsed": true
   },
   "outputs": [],
   "source": [
    "## Fetch Tweets ##\n",
    "def oauth_req(url, http_method=\"GET\", post_body=b\"\", http_headers=None):\n",
    "    consumer = oauth2.Consumer(key=auth_codes[\"key\"], secret=auth_codes[\"secret\"])\n",
    "    token = oauth2.Token(key=\"\", secret=\"\")\n",
    "    client = oauth2.Client(consumer, token)\n",
    "    resp, content = client.request( url, method=http_method, body=post_body, headers=http_headers )\n",
    "    return content\n",
    "\n",
    "byteResponse = oauth_req('https://api.twitter.com/1.1/search/tweets.json?q=a&lang=en&count=100&tweet_mode=extended', \"GET\")\n",
    "tweets = json.loads(byteResponse)"
   ]
  },
  {
   "cell_type": "code",
   "execution_count": null,
   "metadata": {
    "collapsed": true
   },
   "outputs": [],
   "source": [
    "## Label Tweets ##\n",
    "\n",
    "# Usage: \n",
    "# 0) Make empty file called \"patrick_labels.pckl\" in working directory\n",
    "# 1) Select correct pickle file\n",
    "# 2) Label tweets as appropriate\n",
    "# 3) When finished, type \"done\" into the emotion box to automatically have tweets uploaded to the pickle file. \n",
    "\n",
    "labeledTweets = []\n",
    "\n",
    "print(\"Total number of tweets to analyze in this session: {:d}\".format(len(tweets['statuses'])))\n",
    "\n",
    "# p - positive, n - negative, i - informational, h - humor, a - advertisement, o - none of the above\n",
    "for status in tweets['statuses']:\n",
    "    text = status['full_text']\n",
    "    # If this is a retweet, the full_text field gets cut off at 140 characters, \n",
    "    # so we have to get the whole text from the retweeted_status field\n",
    "    if text[0:4] == 'RT @':\n",
    "        text = status['retweeted_status']['full_text']\n",
    "    print(text)\n",
    "    emotion = input(\"What emotion is this? (type 'done' to save current progress to file) \")\n",
    "    print(\"\\n\")\n",
    "    if emotion.lower() == \"done\":\n",
    "        break\n",
    "    tweet = {\"status\": text, \"userId\": status['user']['id'], \"emotion\": emotion}\n",
    "    labeledTweets.append(tweet)\n",
    "\n",
    "add_to_pickle_file(\"patrick_labels.pckl\", labeledTweets)\n",
    "print(\"Added {:d} datapoints\".format(len(labeledTweets)))"
   ]
  },
  {
   "cell_type": "code",
   "execution_count": null,
   "metadata": {
    "collapsed": true
   },
   "outputs": [],
   "source": [
    "## transfer txt file to pickle file ##\n",
    "import ast\n",
    "\n",
    "f = open(\"patrickClassified.txt\",'r')\n",
    "lines = f.readlines()\n",
    "f.close()\n",
    "\n",
    "dictString = \"\"\n",
    "inStatus = False\n",
    "tweets = []\n",
    "for i, line in enumerate(lines):\n",
    "    if \"\\'emotion\\'\" in line:\n",
    "        if \"[\" in line:\n",
    "            ind = line.index(\"[\") + 1\n",
    "            line = line[ind:]\n",
    "        dictString = dictString + line\n",
    "    elif \"\\'status\\'\" in line:\n",
    "        inStatus = True\n",
    "        dictString = dictString + line\n",
    "    elif \"\\'userId\\'\" in line:\n",
    "        inStatus = False\n",
    "        if \",\" in line:\n",
    "            ind = line.index(\",\")\n",
    "            line = line[:ind]\n",
    "        elif \"]\" in line:\n",
    "            ind = line.index(\"]\")\n",
    "            line = line[:ind]\n",
    "        dictString = dictString + line\n",
    "        tweet = ast.literal_eval(dictString.lstrip())\n",
    "        tweets.append(tweet)\n",
    "        dictString = \"\"\n",
    "    elif inStatus:\n",
    "        dictString = dictString + line\n",
    "\n",
    "#add_to_pickle_file(\"patrick_labels.pckl\", tweets)\n",
    "        "
   ]
  },
  {
   "cell_type": "code",
   "execution_count": 5,
   "metadata": {
    "collapsed": false
   },
   "outputs": [
    {
     "data": {
      "image/png": "[encoded data removed]",
      "text/plain": [
       "<matplotlib.figure.Figure at 0x1fa87316160>"
      ]
     },
     "metadata": {},
     "output_type": "display_data"
    },
    {
     "data": {
      "image/png": "[encoded data removed]",
      "text/plain": [
       "<matplotlib.figure.Figure at 0x1fa8a079a90>"
      ]
     },
     "metadata": {},
     "output_type": "display_data"
    },
    {
     "data": {
      "image/png": "[encoded data removed]",
      "text/plain": [
       "<matplotlib.figure.Figure at 0x1fa8a1258d0>"
      ]
     },
     "metadata": {},
     "output_type": "display_data"
    },
    {
     "data": {
      "image/png": "[encoded data removed]",
      "text/plain": [
       "<matplotlib.figure.Figure at 0x1fa8a2dce10>"
      ]
     },
     "metadata": {},
     "output_type": "display_data"
    },
    {
     "data": {
      "image/png": "[encoded data removed]",
      "text/plain": [
       "<matplotlib.figure.Figure at 0x1fa8a3ddef0>"
      ]
     },
     "metadata": {},
     "output_type": "display_data"
    },
    {
     "data": {
      "image/png": "[encoded data removed]",
      "text/plain": [
       "<matplotlib.figure.Figure at 0x1fa8a2060b8>"
      ]
     },
     "metadata": {},
     "output_type": "display_data"
    },
    {
     "data": {
      "image/png": "[encoded data removed]",
      "text/plain": [
       "<matplotlib.figure.Figure at 0x1fa8971b8d0>"
      ]
     },
     "metadata": {},
     "output_type": "display_data"
    },
    {
     "data": {
      "image/png": "[encoded data removed]",
      "text/plain": [
       "<matplotlib.figure.Figure at 0x1fa8a3c2ef0>"
      ]
     },
     "metadata": {},
     "output_type": "display_data"
    },
    {
     "data": {
      "image/png": "[encoded data removed]",
      "text/plain": [
       "<matplotlib.figure.Figure at 0x1fa8a5c90f0>"
      ]
     },
     "metadata": {},
     "output_type": "display_data"
    },
    {
     "data": {
      "image/png": "[encoded data removed]",
      "text/plain": [
       "<matplotlib.figure.Figure at 0x1fa89fbe630>"
      ]
     },
     "metadata": {},
     "output_type": "display_data"
    }
   ],
   "source": [
    "## Experimenting to see what features will work best ##\n",
    "\n",
    "import matplotlib.pyplot as plt\n",
    "import numpy as np\n",
    "import pandas as pd\n",
    "\n",
    "# Feature ideas: length of status, presence of url, number of @'s, number of #'s, presence/number of emojis, \n",
    "# number of numeric/special characters as opposed to alpha, wordnet to assess sentiment, number of alpha words that\n",
    "# are not real dictionary words, 'not' analysis?\n",
    "\n",
    "## Definitions ##\n",
    "def num_pos(status, pos_words=pos_vocab):\n",
    "    from nltk import word_tokenize\n",
    "    \n",
    "    p = 0\n",
    "    \n",
    "    for w in word_tokenize(status.lower()):\n",
    "        if binarySearch(pos_words, w):\n",
    "            p = p + 1 \n",
    "            \n",
    "    return p\n",
    "\n",
    "def num_neg(status, neg_words=neg_vocab):\n",
    "    from nltk import word_tokenize\n",
    "    \n",
    "    n = 0\n",
    "    for w in word_tokenize(status.lower()):\n",
    "        if binarySearch(neg_words, w):\n",
    "            n = n + 1 \n",
    "            \n",
    "    return n\n",
    "\n",
    "def count_emojis(status):\n",
    "    import regex as re\n",
    "    \n",
    "    emoji_regex = r'[\\uD83C-\\uDBFF\\uDC00-\\uDFFF]'\n",
    "    text_emoji_regex = r'[:;=][ -*]*?[\\[\\]\\(\\)DPpXx3/\\\\]' # Included some common regex expressions. '...*?...' \n",
    "    text_reverse_emoji_regex = r'[\\[\\]\\(\\)DPpxX/\\\\][ -*]*?[:;=]' # Included some common reverse regex expressions. \n",
    "    total_regex = r'(' + emoji_regex + r'|' + text_emoji_regex + r'|' + text_reverse_emoji_regex + r')'\n",
    "    rexp = re.compile(total_regex)\n",
    "    num_emojis = len(rexp.findall(status))\n",
    "    \n",
    "    return num_emojis\n",
    "\n",
    "def percent_real_words(status, lexicon=english_words):\n",
    "    from nltk import word_tokenize\n",
    "    \n",
    "    out = 0\n",
    "    words = word_tokenize(status.lower()) \n",
    "    for w in words:\n",
    "        if binarySearch(lexicon, w):\n",
    "            out = out + 1\n",
    "            \n",
    "    out = out / len(words)\n",
    "            \n",
    "    return out\n",
    "\n",
    "def binarySearch(lex, word):\n",
    "    from bisect import bisect_left    \n",
    "    pos = bisect_left(lex, word)\n",
    "    return (pos < len(lex) and lex[pos] == word)\n",
    "\n",
    "def statusLength(status):\n",
    "    return len(status)\n",
    "\n",
    "def hasLink(status):\n",
    "    if \"https://\" in status:\n",
    "        return 1\n",
    "    else:\n",
    "        return 0\n",
    "    \n",
    "def numAts(status):\n",
    "    return status.count(\"@\")\n",
    "\n",
    "def numHashtags(status):\n",
    "    return status.count(\"#\")\n",
    "\n",
    "def presenceColon(status):\n",
    "    if ':' in status:\n",
    "        return 1\n",
    "    else:\n",
    "        return 0\n",
    "\n",
    "def presenceExclamation(status):\n",
    "    if '!' in status:\n",
    "        return 1\n",
    "    else:\n",
    "        return 0\n",
    "    \n",
    "def presenceQuestion(status):\n",
    "    if '?' in status:\n",
    "        return 1\n",
    "    else:\n",
    "        return 0\n",
    "\n",
    "\n",
    "features = [statusLength, hasLink, numAts, numHashtags, num_pos, num_neg, percent_real_words,\n",
    "            presenceColon, presenceExclamation, presenceQuestion]\n",
    "\n",
    "#Define data\n",
    "patrickData = load_pickle(\"patrick_labels.pckl\")\n",
    "benData = load_pickle(\"ben_labels.pckl\")\n",
    "patrickDatas = [patrickData[:400], patrickData[400:], benData]\n",
    "numGroups = len(patrickDatas)\n",
    "\n",
    "#Define categories\n",
    "allCategories = [\"p\",\"n\",\"h\",\"a\",\"i\",\"o\"]\n",
    "\n",
    "\n",
    "## Extract feature information from data ##\n",
    "featureDatas = []\n",
    "for i in range(0, numGroups):\n",
    "    allStatuses = {}\n",
    "    for category in allCategories:\n",
    "        allStatuses[category] = []\n",
    "    for tweet in patrickDatas[i]:\n",
    "        categories = tweet['emotion']\n",
    "        for category in categories:\n",
    "            allStatuses[category].append(tweet['status'])\n",
    "    \n",
    "    featureData = {}\n",
    "\n",
    "    for category in allCategories:\n",
    "        statuses = allStatuses[category]\n",
    "        numStatuses = len(statuses)\n",
    "        totals = {}\n",
    "        avgs = {}\n",
    "        #Initialize and calculate totals for each feature\n",
    "        for feature in features:\n",
    "            totals[feature] = 0\n",
    "        for status in statuses:\n",
    "            for feature in features:\n",
    "                totals[feature] += feature(status)\n",
    "        #Compute and storeaverages for each feature\n",
    "        for feature in features:\n",
    "            avgs[feature] = totals[feature]/numStatuses\n",
    "        featureData[category] = avgs\n",
    "        #for feature in features:\n",
    "            #print(totals[feature]/numStatuses)\n",
    "    featureDatas.append(featureData)\n",
    "\n",
    "    \n",
    "    \n",
    "## Plots to show results ##\n",
    "colors = ['b','r','g', 'c', 'm', 'k']\n",
    "for feature in features:\n",
    "    x_pos = np.arange(len(allCategories))\n",
    "    w = 0.9 / numGroups\n",
    "    ax = plt.subplot(111)\n",
    "    \n",
    "    #Total\n",
    "    y = []\n",
    "    for category in allCategories:\n",
    "        totalAvg = 0\n",
    "        for i in range(0, numGroups):\n",
    "            totalAvg += featureDatas[i][category][feature]/numGroups\n",
    "        y.append(totalAvg)\n",
    "    ax.bar([pos + w*(numGroups - 1)/2 for pos in x_pos], y,width=0.9,color='y',align='center')\n",
    "    \n",
    "    #For each group\n",
    "    for i in range(0, numGroups):\n",
    "        y = []\n",
    "        for category in allCategories:\n",
    "            y.append(featureDatas[i][category][feature])\n",
    "        ax.bar([pos + w*i for pos in x_pos], y,width=w,color=colors[i],align='center')\n",
    "\n",
    "    plt.xticks(x_pos, allCategories)\n",
    "    plt.title(feature.__name__)\n",
    "    plt.show()"
   ]
  },
  {
   "cell_type": "code",
   "execution_count": 3,
   "metadata": {
    "collapsed": false
   },
   "outputs": [],
   "source": [
    "## Format data to pass to machine learning algorithms ##\n",
    "\n",
    "# Convert from list of dictionaries to matrix\n",
    "def data_format_XY(data, feature_list, categories=[\"p\",\"n\",\"h\",\"a\",\"i\",\"o\"]): \n",
    "    # Data is the list of dictionaries\n",
    "    # Feature list is a list of the features we want to extract\n",
    "    # Categories is the complete list of categories, mapped to integers 0-5\n",
    "    \n",
    "    # Change support to multilabel classification using sklearn's MultiLabelBinarizer\n",
    "    \n",
    "    import numpy as np\n",
    "    \n",
    "    cat_dict = {k:v for (k,v) in zip(categories, range(len(categories)))}\n",
    "    \n",
    "    statuses = [d['status'] for d in data for _ in d['emotion']]\n",
    "    labels = [cat_dict[e] for d in data for e in d['emotion']]\n",
    "    \n",
    "    Y = np.array(labels)\n",
    "    X = np.zeros((len(Y), len(feature_list)))\n",
    "    \n",
    "    for i, f in enumerate(feature_list):\n",
    "        curr_feats = [f(s) for s in statuses]\n",
    "        X[:, i] = np.array(curr_feats)\n",
    "        \n",
    "    return X, Y\n",
    "\n",
    "# Scale features\n",
    "def preprocess_features(X):\n",
    "    X_out = (X - np.mean(X, axis=0)) / np.std(X, axis=0)\n",
    "    \n",
    "    return X_out\n",
    "    \n",
    "# Separate into Train and Test\n",
    "def train_test_split(X_full, Y_full, frac_test=0.33):\n",
    "    import numpy as np\n",
    "    \n",
    "    np.random.seed(0)\n",
    "    idx = np.random.permutation(len(Y_full))\n",
    "    split_ind = int(np.round((1 - frac_test) * len(Y_full)))\n",
    "    \n",
    "    X_train = X_full[idx[-split_ind:]]\n",
    "    X_test = X_full[idx[:-split_ind]]\n",
    "    Y_train = Y_full[idx[-split_ind:]]\n",
    "    Y_test = Y_full[idx[:-split_ind]]\n",
    "    \n",
    "    return X_train, Y_train, X_test, Y_test\n",
    "\n",
    "\n",
    "def data_format_multilabel(data, feature_list, categories=[\"p\",\"n\",\"h\",\"a\",\"i\",\"o\"]): \n",
    "    # Data is the list of dictionaries\n",
    "    # Feature list is a list of the features we want to extract\n",
    "    # Categories is the complete list of categories, mapped to integers 0-5\n",
    "    \n",
    "    # Change support to multilabel classification using sklearn's MultiLabelBinarizer\n",
    "    \n",
    "    import numpy as np\n",
    "    \n",
    "    cat_dict = {k:v for (k,v) in zip(categories, range(len(categories)))}\n",
    "    Y = np.zeros((len(data), len(categories)))\n",
    "    \n",
    "    for i, d in enumerate(data):\n",
    "        for e in d['emotion']:\n",
    "            Y[i, cat_dict[e]] += 1\n",
    "    \n",
    "    statuses = [d['status'] for d in data]\n",
    "    \n",
    "    X = np.zeros((len(Y), len(feature_list)))\n",
    "    \n",
    "    for i, f in enumerate(feature_list):\n",
    "        curr_feats = [f(s) for s in statuses]\n",
    "        X[:, i] = np.array(curr_feats)\n",
    "        \n",
    "    return X, Y\n"
   ]
  },
  {
   "cell_type": "code",
   "execution_count": 48,
   "metadata": {
    "collapsed": true
   },
   "outputs": [],
   "source": [
    "## Evaluation functions ## \n",
    "def pct_correct(Y_true, Y_est):\n",
    "    import numpy as np\n",
    "    \n",
    "    return np.sum(Y_est == Y_true)/len(Y_true)\n",
    "\n",
    "def multi_label_auc(Y_true, Y_est):\n",
    "    # Given estimated probabilities for each class, plot ROC_AUC curve\n",
    "    from sklearn.metrics import roc_auc_score\n",
    "    \n",
    "    return roc_auc_score(Y_true, Y_est)\n",
    "\n",
    "    \n",
    "def plot_multilabel_roc(Y_true, Y_est, categories=[\"p\",\"n\",\"h\",\"a\",\"i\",\"o\"]):\n",
    "    # Both Y_true and Y_est are assumed to be binarized into 1's and 0's for each class\n",
    "    import matplotlib.pyplot as plt\n",
    "    from sklearn.metrics import roc_curve, auc\n",
    "    fpr = dict()\n",
    "    tpr = dict()\n",
    "    roc_auc = dict()\n",
    "    \n",
    "    emotion_expand = {\"p\":\"positive\",\n",
    "                    \"n\":\"negative\",\n",
    "                    \"h\":\"humor\",\n",
    "                    \"a\":\"advertisement\",\n",
    "                    \"i\":\"information\",\n",
    "                    \"o\":\"other\"}\n",
    "    \n",
    "    for i in range(Y_true.shape[1]):\n",
    "        fpr[i], tpr[i], _ = roc_curve(Y_true[:, i], Y_est[:, i])\n",
    "        roc_auc[i] = auc(fpr[i], tpr[i])\n",
    "        \n",
    "    plt.figure()\n",
    "    lw = 2\n",
    "    \n",
    "    # Plot diagonal line\n",
    "    plt.plot([0, 1], [0, 1], lw=lw, linestyle='--')\n",
    "    \n",
    "    # Plot categories\n",
    "    for i in range(Y_true.shape[1]):\n",
    "        plt.plot(fpr[i], tpr[i], lw=lw, label='{:s} (area = {:0.2f})'.format(emotion_expand[categories[i]], roc_auc[i]))\n",
    "    \n",
    "    plt.xlim([0.0, 1.0])\n",
    "    plt.ylim([0.0, 1.05])\n",
    "    plt.xlabel('False Positive Rate')\n",
    "    plt.ylabel('True Positive Rate')\n",
    "    plt.title('ROC for different categories')\n",
    "    plt.legend(loc=\"lower right\")\n",
    "    plt.show() \n",
    "    "
   ]
  },
  {
   "cell_type": "code",
   "execution_count": 13,
   "metadata": {
    "collapsed": true
   },
   "outputs": [],
   "source": [
    "## Setup experiments ##\n",
    "# Define useful features\n",
    "all_features = [statusLength, hasLink, numAts, numHashtags, num_pos, num_neg, percent_real_words,\n",
    "            presenceColon, presenceExclamation]\n",
    "\n",
    "# Process data\n",
    "data1 = load_pickle(\"patrick_labels.pckl\")\n",
    "data2 = load_pickle(\"ben_labels.pckl\")\n",
    "\n",
    "# Change below if only want to analyze one\n",
    "data = data1 + data2\n",
    "\n",
    "X, Y = data_format_XY(data, all_features)\n",
    "X = preprocess_features(X)\n",
    "X_train, Y_train, X_test, Y_test = train_test_split(X, Y)"
   ]
  },
  {
   "cell_type": "code",
   "execution_count": null,
   "metadata": {
    "collapsed": true
   },
   "outputs": [],
   "source": [
    "# General flow of sklearn objects:\n",
    "#   model = SklearnModel(<params>)\n",
    "#   model.fit(X_train, Y_train)\n",
    "#   model.predict(X_test)"
   ]
  },
  {
   "cell_type": "code",
   "execution_count": null,
   "metadata": {
    "collapsed": true
   },
   "outputs": [],
   "source": [
    "import scipy.io\n",
    "\n",
    "scipy.io.savemat('tweetData.mat', {'data': X, 'labels': Y})"
   ]
  },
  {
   "cell_type": "code",
   "execution_count": null,
   "metadata": {
    "collapsed": true
   },
   "outputs": [],
   "source": [
    "## Single Label Classifiers ##\n",
    "from sklearn.neural_network import MLPClassifier\n",
    "from sklearn.neighbors import KNeighborsClassifier\n",
    "from sklearn.svm import SVC\n",
    "from sklearn.gaussian_process import GaussianProcessClassifier\n",
    "from sklearn.gaussian_process.kernels import RBF\n",
    "from sklearn.tree import DecisionTreeClassifier\n",
    "from sklearn.ensemble import RandomForestClassifier, AdaBoostClassifier\n",
    "from sklearn.naive_bayes import GaussianNB\n",
    "from sklearn.discriminant_analysis import QuadraticDiscriminantAnalysis\n",
    "\n",
    "classifiers = [\n",
    "    KNeighborsClassifier(n_neighbors=40),\n",
    "    SVC(kernel=\"linear\", C=0.025),\n",
    "    SVC(gamma=2, C=1),\n",
    "    GaussianProcessClassifier(1.0 * RBF(1.0)),\n",
    "    DecisionTreeClassifier(max_depth=5),\n",
    "    RandomForestClassifier(max_depth=20, n_estimators=10, max_features=1),\n",
    "    MLPClassifier(alpha=1),\n",
    "    AdaBoostClassifier(),\n",
    "    GaussianNB(),\n",
    "    QuadraticDiscriminantAnalysis()]\n",
    "\n",
    "clf = classifiers[5]\n",
    "clf.fit(X_train, Y_train)\n",
    "est = clf.predict(X_test)\n",
    "\n",
    "# Test estimator\n",
    "from sklearn import metrics\n",
    "\n",
    "pct_correct(est, Y_test)"
   ]
  },
  {
   "cell_type": "code",
   "execution_count": null,
   "metadata": {
    "collapsed": true
   },
   "outputs": [],
   "source": [
    "from sklearn.metrics import confusion_matrix\n",
    "import seaborn as sn\n",
    "import pandas as pd\n",
    "\n",
    "confusionMatrix = confusion_matrix(Y_test, est)\n",
    "\n",
    "confusionMatrix\n",
    "\n",
    "df_cm = pd.DataFrame(confusionMatrix, index = [c for c in allCategories],\n",
    "                  columns = [c for c in allCategories])\n",
    "plt.figure(figsize = (10,7))\n",
    "sn.heatmap(df_cm, annot=True)\n",
    "plt.show()"
   ]
  },
  {
   "cell_type": "code",
   "execution_count": 39,
   "metadata": {
    "collapsed": true
   },
   "outputs": [],
   "source": [
    "## Multi Label Classifiers ##\n",
    "all_features = [statusLength, hasLink, numAts, numHashtags, num_pos, num_neg, percent_real_words,\n",
    "            presenceColon, presenceExclamation]\n",
    "\n",
    "# Process data\n",
    "data1 = load_pickle(\"patrick_labels.pckl\")\n",
    "data2 = load_pickle(\"ben_labels.pckl\")\n",
    "\n",
    "# Change below if only want to analyze one\n",
    "data = data1 + data2\n",
    "\n",
    "# Select features\n",
    "features = all_features\n",
    "\n",
    "X, Y = data_format_multilabel(data, all_features)\n",
    "X = preprocess_features(X)\n",
    "X_train, Y_train, X_test, Y_test = train_test_split(X, Y)"
   ]
  },
  {
   "cell_type": "code",
   "execution_count": 59,
   "metadata": {
    "collapsed": true
   },
   "outputs": [],
   "source": [
    "from sklearn.ensemble import RandomForestClassifier\n",
    "\n",
    "clf = RandomForestClassifier(max_depth=30, n_estimators=100)\n",
    "clf.fit(X_train, Y_train)\n",
    "est = clf.predict_proba(X_test)"
   ]
  },
  {
   "cell_type": "code",
   "execution_count": 105,
   "metadata": {
    "collapsed": false
   },
   "outputs": [
    {
     "data": {
      "image/png": "[encoded data removed]",
      "text/plain": [
       "<matplotlib.figure.Figure at 0x1fa89fbe5c0>"
      ]
     },
     "metadata": {},
     "output_type": "display_data"
    }
   ],
   "source": [
    "from sklearn.metrics import roc_auc_score, roc_curve\n",
    "\n",
    "positive_probability = [[row[1] for row in category] for category in est]\n",
    "\n",
    "pos_proba = np.array(positive_probability)\n",
    "plot_multilabel_roc(Y_test, pos_proba.transpose())"
   ]
  },
  {
   "cell_type": "code",
   "execution_count": null,
   "metadata": {
    "collapsed": true
   },
   "outputs": [],
   "source": []
  }
 ],
 "metadata": {
  "kernelspec": {
   "display_name": "Python [default]",
   "language": "python",
   "name": "python3"
  },
  "language_info": {
   "codemirror_mode": {
    "name": "ipython",
    "version": 3
   },
   "file_extension": ".py",
   "mimetype": "text/x-python",
   "name": "python",
   "nbconvert_exporter": "python",
   "pygments_lexer": "ipython3",
   "version": "3.6.1"
  }
 },
 "nbformat": 4,
 "nbformat_minor": 2
}
