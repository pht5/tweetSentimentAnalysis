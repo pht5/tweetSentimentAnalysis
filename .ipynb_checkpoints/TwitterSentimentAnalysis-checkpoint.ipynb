{
 "cells": [
  {
   "cell_type": "code",
   "execution_count": null,
   "metadata": {
    "collapsed": false
   },
   "outputs": [],
   "source": [
    "import requests\n",
    "import oauth2\n",
    "import json\n",
    "import pickle \n",
    "import os\n",
    "\n",
    "with open(\"twitter_auth.json\", 'r') as f:\n",
    "    auth_codes = json.load(f)\n",
    "    \n",
    "def load_pickle(fname):\n",
    "    with open(fname, 'rb') as f:\n",
    "        data = pickle.load(f)\n",
    "    return data\n",
    "    \n",
    "def add_to_pickle_file(fname, new_data):\n",
    "    # Given a pickle filename, append to it the new data (in our case, a list of dicts)\n",
    "   \n",
    "    # Check that file is not empty, otherwise initialize\n",
    "    if os.path.getsize(fname) > 0:      \n",
    "        with open(fname, 'rb') as f:\n",
    "            unpickler = pickle.Unpickler(f);\n",
    "            data = unpickler.load()\n",
    "    else:\n",
    "        data = []\n",
    "    \n",
    "    print(\"Old length of file: {:d}\".format(len(data)))\n",
    "    data = data + new_data\n",
    "    print(\"New length of file: {:d}\".format(len(data)))\n",
    "    \n",
    "    with open(fname, 'wb') as f:\n",
    "        pickle.dump(data, f)\n",
    "\n",
    "def oauth_req(url, http_method=\"GET\", post_body=b\"\", http_headers=None):\n",
    "    consumer = oauth2.Consumer(key=auth_codes[\"key\"], secret=auth_codes[\"secret\"])\n",
    "    token = oauth2.Token(key=\"\", secret=\"\")\n",
    "    client = oauth2.Client(consumer, token)\n",
    "    resp, content = client.request( url, method=http_method, body=post_body, headers=http_headers )\n",
    "    return content\n",
    "\n",
    "byteResponse = oauth_req('https://api.twitter.com/1.1/search/tweets.json?q=a&lang=en&count=100&tweet_mode=extended', \"GET\")\n",
    "tweets = json.loads(byteResponse)\n",
    "\n",
    "pickle_file = \"ben_labels.pckl\"\n",
    "# pickle_file = \"patrick_labels.pckl\""
   ]
  },
  {
   "cell_type": "code",
   "execution_count": null,
   "metadata": {
    "collapsed": false
   },
   "outputs": [],
   "source": [
    "# Usage: \n",
    "# 0) Make empty file called \"patrick_labels.pckl\" in working directory\n",
    "# 1) Select correct pickle file\n",
    "# 2) Label tweets as appropriate\n",
    "# 3) When finished, type \"done\" into the emotion box to automatically have tweets uploaded to the pickle file. \n",
    "\n",
    "\n",
    "labeledTweets = []\n",
    "\n",
    "print(\"Total number of tweets to analyze in this session: {:d}\".format(len(tweets['statuses'])))\n",
    "\n",
    "# p - positive, n - negative, i - informational, h - humor, a - advertisement, o - none of the above\n",
    "for status in tweets['statuses']:\n",
    "    text = status['full_text']\n",
    "    # If this is a retweet, the full_text field gets cut off at 140 characters, \n",
    "    # so we have to get the whole text from the retweeted_status field\n",
    "    if text[0:4] == 'RT @':\n",
    "        text = status['retweeted_status']['full_text']\n",
    "    print(text)\n",
    "    emotion = input(\"What emotion is this? (type 'done' to save current progress to file) \")\n",
    "    print(\"\\n\")\n",
    "    if emotion.lower() == \"done\":\n",
    "        break\n",
    "    tweet = {\"status\": text, \"userId\": status['user']['id'], \"emotion\": emotion}\n",
    "    labeledTweets.append(tweet)\n",
    "\n",
    "add_to_pickle_file(pickle_file, labeledTweets)\n",
    "print(\"Added {:d} datapoints\".format(len(labeledTweets)))"
   ]
  },
  {
   "cell_type": "code",
   "execution_count": null,
   "metadata": {
    "collapsed": false
   },
   "outputs": [],
   "source": [
    "tweets['statuses'][1]['retweeted_status']['full_text']"
   ]
  },
  {
   "cell_type": "code",
   "execution_count": null,
   "metadata": {
    "collapsed": false
   },
   "outputs": [],
   "source": [
    "import pip\n",
    "\n",
    "installed_packages = pip.get_installed_distributions()\n",
    "installed_packages_list = sorted([\"%s==%s\" % (i.key, i.version)\n",
    "     for i in installed_packages])\n",
    "print(installed_packages_list)"
   ]
  },
  {
   "cell_type": "code",
   "execution_count": null,
   "metadata": {
    "collapsed": false
   },
   "outputs": [],
   "source": [
    "data = load_pickle(pickle_file)\n",
    "\n",
    "def make_features(data):\n",
    "    import nltk\n",
    "    \n",
    "    statuses = [d['status'] for d in data]\n",
    "    labels = [d['emotion'] for d in data]\n",
    "    \n",
    "    return statuses, labels\n",
    "        \n",
    "print(data[0])"
   ]
  }
 ],
 "metadata": {
  "kernelspec": {
   "display_name": "Python [default]",
   "language": "python",
   "name": "python3"
  },
  "language_info": {
   "codemirror_mode": {
    "name": "ipython",
    "version": 3
   },
   "file_extension": ".py",
   "mimetype": "text/x-python",
   "name": "python",
   "nbconvert_exporter": "python",
   "pygments_lexer": "ipython3",
   "version": "3.6.1"
  }
 },
 "nbformat": 4,
 "nbformat_minor": 2
}
