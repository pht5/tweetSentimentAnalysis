{
 "cells": [
  {
   "cell_type": "code",
   "execution_count": null,
   "metadata": {
    "collapsed": false
   },
   "outputs": [],
   "source": [
    "import requests\n",
    "import oauth2\n",
    "import json\n",
    "\n",
    "\n",
    "with open(\"twitter_auth.json\", 'r') as f:\n",
    "    auth_codes = json.load(f)\n",
    "\n",
    "def oauth_req(url, http_method=\"GET\", post_body=b\"\", http_headers=None):\n",
    "    consumer = oauth2.Consumer(key=auth_codes[\"key\"], secret=auth_codes[\"secret\"])\n",
    "    token = oauth2.Token(key=\"\", secret=\"\")\n",
    "    client = oauth2.Client(consumer, token)\n",
    "    resp, content = client.request( url, method=http_method, body=post_body, headers=http_headers )\n",
    "    return content\n",
    "\n",
    "byteResponse = oauth_req('https://api.twitter.com/1.1/search/tweets.json?q=tax', \"GET\")\n",
    "tweets = json.loads(byteResponse)\n",
    "print(tweets)\n"
   ]
  },
  {
   "cell_type": "code",
   "execution_count": null,
   "metadata": {
    "collapsed": false
   },
   "outputs": [],
   "source": [
    "# Updated with add_to_pickl_file\n",
    "\n",
    "MY_pickle_file = \"ben_labels.pckl\"\n",
    "for status in tweets['statuses'][1:4]:\n",
    "    print(status['text'])\n",
    "    emotion = input(\"What emotion is this? \")\n",
    "    tweet = {\"status\": status['text'], \"userId\": status['user']['id'], \"emotion\": emotion}\n",
    "    add_to_pickl_file(MY_pickle_file, tweet)\n",
    "    "
   ]
  },
  {
   "cell_type": "code",
   "execution_count": null,
   "metadata": {
    "collapsed": false
   },
   "outputs": [],
   "source": [
    "import pip\n",
    "\n",
    "installed_packages = pip.get_installed_distributions()\n",
    "installed_packages_list = sorted([\"%s==%s\" % (i.key, i.version)\n",
    "     for i in installed_packages])\n",
    "print(installed_packages_list)"
   ]
  },
  {
   "cell_type": "code",
   "execution_count": null,
   "metadata": {
    "collapsed": false
   },
   "outputs": [],
   "source": [
    "values = [{'Name': 'John Doe', 'Age': 26, 'ID': '1279abc'},\n",
    "          {'Name': 'Jane Smith', 'Age': 35, 'ID': 'bca9721'}]\n",
    "\n",
    "def add_to_pickl_file(fname, new_data):\n",
    "    # Given a pickle filename, append to it the new data (in our case, a list of dicts)\n",
    "    import pickle \n",
    "    import sys\n",
    "    \n",
    "    with open(fname, 'rb') as f:\n",
    "        data = pickle.load(f)\n",
    "    \n",
    "    if not data:\n",
    "        data = []\n",
    "    \n",
    "    data.append(new_data)\n",
    "    \n",
    "    with open(fname, 'wb') as f:\n",
    "        print(data)\n",
    "        pickle.dump(data, f)\n",
    "        \n",
    "def pickl_init(fname):\n",
    "    with open(fname, 'rb'):\n",
    "\n",
    "values"
   ]
  },
  {
   "cell_type": "code",
   "execution_count": null,
   "metadata": {
    "collapsed": false
   },
   "outputs": [],
   "source": [
    "# Example usage of the add_to_pickl_file()\n",
    "pickle_filename = \"ben-labels.pckl\"\n",
    "\n",
    "add_to_pickl_file(pickle_filename, values)\n",
    "\n",
    "with open(fname, 'rb') as f:\n",
    "    data = pickle.load(f)\n",
    "    "
   ]
  }
 ],
 "metadata": {
  "kernelspec": {
   "display_name": "Python [default]",
   "language": "python",
   "name": "python3"
  },
  "language_info": {
   "codemirror_mode": {
    "name": "ipython",
    "version": 3
   },
   "file_extension": ".py",
   "mimetype": "text/x-python",
   "name": "python",
   "nbconvert_exporter": "python",
   "pygments_lexer": "ipython3",
   "version": "3.6.1"
  }
 },
 "nbformat": 4,
 "nbformat_minor": 2
}
