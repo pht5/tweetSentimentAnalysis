{
 "cells": [
  {
   "cell_type": "code",
   "execution_count": 28,
   "metadata": {
    "collapsed": true
   },
   "outputs": [],
   "source": [
    "import requests\n",
    "import oauth2\n",
    "import json\n",
    "\n",
    "with open(\"twitter_auth.json\", 'r') as f:\n",
    "    auth_codes = json.load(f)\n",
    "\n",
    "def oauth_req(url, http_method=\"GET\", post_body=b\"\", http_headers=None):\n",
    "    consumer = oauth2.Consumer(key=auth_codes[\"key\"], secret=auth_codes[\"secret\"])\n",
    "    token = oauth2.Token(key=\"\", secret=\"\")\n",
    "    client = oauth2.Client(consumer, token)\n",
    "    resp, content = client.request( url, method=http_method, body=post_body, headers=http_headers )\n",
    "    return content\n",
    "\n",
    "byteResponse = oauth_req('https://api.twitter.com/1.1/search/tweets.json?q=a&lang=en&count=100&tweet_mode=extended', \"GET\")\n",
    "tweets = json.loads(byteResponse)"
   ]
  },
  {
   "cell_type": "code",
   "execution_count": 29,
   "metadata": {},
   "outputs": [
    {
     "name": "stdout",
     "output_type": "stream",
     "text": [
      "What a babe 🖤🖤 https://t.co/dYNFDPkeKs\n",
      "What emotion is this? h\n",
      "‘man imprisoned for bacon in a mosque!!!’\n",
      "\n",
      "‘aw aye n just a wee side note btw like not that it would even matter or anyhin but the cunt was a repeat offender n was SWINGING A FUCKING MACHETE AROUND’ https://t.co/rnkMqSRXV4\n",
      "What emotion is this? a\n",
      "I have wondered about path for #Angels winning while Trout is there. Ohtani gives a chance not only because talented but cost so little that LAA can re-direct money elsewhere\n",
      "What emotion is this? n\n"
     ]
    },
    {
     "data": {
      "text/plain": [
       "[{'emotion': 'h',\n",
       "  'status': 'What a babe 🖤🖤 https://t.co/dYNFDPkeKs',\n",
       "  'userId': 4633658774},\n",
       " {'emotion': 'a',\n",
       "  'status': '‘man imprisoned for bacon in a mosque!!!’\\n\\n‘aw aye n just a wee side note btw like not that it would even matter or anyhin but the cunt was a repeat offender n was SWINGING A FUCKING MACHETE AROUND’ https://t.co/rnkMqSRXV4',\n",
       "  'userId': 290778954},\n",
       " {'emotion': 'n',\n",
       "  'status': 'I have wondered about path for #Angels winning while Trout is there. Ohtani gives a chance not only because talented but cost so little that LAA can re-direct money elsewhere',\n",
       "  'userId': 388689888}]"
      ]
     },
     "execution_count": 29,
     "metadata": {},
     "output_type": "execute_result"
    }
   ],
   "source": [
    "labeledTweets = []\n",
    "# p - positive, n - negative, i - informational, h - humor, a - advertisement, o - none of the above\n",
    "for status in tweets['statuses'][1:4]:\n",
    "    text = status['full_text']\n",
    "    # If this is a retweet, the full_text field gets cut off at 140 characters, \n",
    "    # so we have to get the whole text from the retweeted_status field\n",
    "    if text[0:4] == 'RT @':\n",
    "        text = status['retweeted_status']['full_text']\n",
    "    print(text)\n",
    "    emotion = input(\"What emotion is this? \")\n",
    "    tweet = {\"status\": text, \"userId\": status['user']['id'], \"emotion\": emotion}\n",
    "    labeledTweets.append(tweet)\n",
    "labeledTweets"
   ]
  },
  {
   "cell_type": "code",
   "execution_count": 26,
   "metadata": {},
   "outputs": [
    {
     "data": {
      "text/plain": [
       "'I BEEN said this. Rebecca Romjin was THAT girl. She served looks kicked ass and made mystique so dark and alluring. A real force to be wreckened with. Jennifer Lawrence doesn’t do it idk why they keep casting the bitch. She makes her look weak &amp; doesn’t have the range https://t.co/6F6D9kVKV5'"
      ]
     },
     "execution_count": 26,
     "metadata": {},
     "output_type": "execute_result"
    }
   ],
   "source": [
    "tweets['statuses'][1]['retweeted_status']['full_text']"
   ]
  },
  {
   "cell_type": "code",
   "execution_count": 4,
   "metadata": {},
   "outputs": [
    {
     "name": "stdout",
     "output_type": "stream",
     "text": [
      "['alabaster==0.7.9', 'anaconda-client==1.6.0', 'anaconda-navigator==1.5', 'anaconda-project==0.4.1', 'astroid==1.4.9', 'astropy==2.0.2', 'babel==2.3.4', 'backports.shutil-get-terminal-size==1.0.0', 'beautifulsoup4==4.5.3', 'bitarray==0.8.1', 'blaze==0.10.1', 'bokeh==0.12.4', 'boto==2.45.0', 'bottleneck==1.2.1', 'bz2file==0.98', 'cffi==1.9.1', 'chardet==2.3.0', 'chest==0.2.3', 'click==6.7', 'cloudpickle==0.2.2', 'clyent==1.2.2', 'colorama==0.3.7', 'comtypes==1.1.2', 'conda==4.3.30', 'configobj==5.0.6', 'contextlib2==0.5.4', 'cryptography==1.7.1', 'cssselect==1.0.1', 'cycler==0.10.0', 'cython==0.25.2', 'cytoolz==0.8.2', 'dask==0.13.0', 'datashape==0.5.4', 'decorator==4.0.11', 'dill==0.2.5', 'docutils==0.13.1', 'et-xmlfile==1.0.1', 'fastcache==1.0.2', 'feedfinder2==0.0.4', 'feedparser==5.2.1', 'flask-cors==3.0.2', 'flask==0.12', 'gensim==3.0.1', 'gevent==1.2.1', 'greenlet==0.4.11', 'h5py==2.7.0', 'heapdict==1.0.0', 'httplib2==0.10.3', 'idna==2.2', 'imagesize==0.7.1', 'ipdb==0.10.1', 'ipykernel==4.5.2', 'ipython-genutils==0.1.0', 'ipython==5.1.0', 'ipywidgets==5.2.2', 'isort==4.2.5', 'itsdangerous==0.24', 'jdcal==1.3', 'jedi==0.9.0', 'jieba3k==0.35.1', 'jinja2==2.9.4', 'jsonschema==2.5.1', 'jupyter-client==4.4.0', 'jupyter-console==5.0.0', 'jupyter-contrib-core==0.3.1', 'jupyter-contrib-nbextensions==0.2.8', 'jupyter-core==4.2.1', 'jupyter-highlight-selected-word==0.0.10', 'jupyter-latex-envs==1.3.8.2', 'jupyter-nbextensions-configurator==0.2.5', 'jupyter==1.0.0', 'jupyterlab-launcher==0.3.1', 'jupyterlab==0.26.5', 'lazy-object-proxy==1.2.2', 'llvmlite==0.20.0', 'locket==0.2.0', 'lxml==3.7.2', 'markupsafe==0.23', 'matplotlib==2.0.2', 'menuinst==1.4.4', 'metakernel==0.20.6', 'mistune==0.7.3', 'mpmath==0.19', 'multipledispatch==0.4.9', 'nb-anacondacloud==1.4.0', 'nb-conda-kernels==2.1.0', 'nb-conda==2.2.0', 'nbconvert==4.2.0', 'nbformat==4.2.0', 'nbpresent==3.0.2', 'networkx==2.0', 'newspaper3k==0.1.9', 'nltk==3.2.2', 'nose==1.3.7', 'notebook==4.3.1', 'numba==0.35.0', 'numexpr==2.6.2', 'numpy==1.13.1', 'numpydoc==0.6.0', 'oauth2==1.9.0.post1', 'octave-kernel==0.26.2', 'odo==0.5.0', 'olefile==0.44', 'openpyxl==2.4.1', 'pandas==0.20.3', 'partd==0.3.7', 'path.py==0.0.0', 'pathlib2==2.2.0', 'patsy==0.4.1', 'pdb==0.1', 'pep8==1.7.0', 'pexpect==4.2.1', 'pickleshare==0.7.4', 'pillow==4.0.0', 'pip==9.0.1', 'ply==3.9', 'prompt-toolkit==1.0.9', 'psutil==5.0.1', 'ptyprocess==0.5.2', 'py==1.4.32', 'pyasn1==0.1.9', 'pycosat==0.6.1', 'pycparser==2.17', 'pycrypto==2.6.1', 'pycurl==7.43.0', 'pyflakes==1.5.0', 'pygments==2.1.3', 'pylint==1.6.4', 'pyopenssl==16.2.0', 'pyparsing==2.1.4', 'pytest==3.0.5', 'python-dateutil==2.6.0', 'python-gnupg==0.4.0', 'pytz==2016.10', 'pywavelets==0.5.2', 'pywin32==220', 'pyyaml==3.12', 'pyzmq==16.0.2', 'qtawesome==0.4.3', 'qtconsole==4.2.1', 'qtpy==1.2.1', 'regex==2017.2.8', 'requests-file==1.4.1', 'requests==2.12.4', 'rope-py3k==0.9.4.post1', 'scikit-image==0.13.0', 'scikit-learn==0.19.0', 'scipy==0.19.1', 'seaborn==0.7.1', 'setuptools==27.2.0', 'simplegeneric==0.8.1', 'singledispatch==3.4.0.3', 'six==1.10.0', 'smart-open==1.5.3', 'snowballstemmer==1.2.1', 'sockjs-tornado==1.0.3', 'sphinx==1.5.1', 'spyder.vim==0.1.0', 'spyder==3.1.4', 'sqlalchemy==1.1.5', 'statsmodels==0.8.0', 'sympy==1.0', 'tables==3.2.2', 'tabulate==0.7.7', 'tldextract==2.0.2', 'toolz==0.8.2', 'tornado==4.4.2', 'traitlets==4.3.1', 'unicodecsv==0.14.1', 'wcwidth==0.1.7', 'werkzeug==0.11.15', 'wheel==0.29.0', 'widgetsnbextension==1.2.6', 'win-unicode-console==0.5', 'wrapt==1.10.8', 'xlrd==1.0.0', 'xlsxwriter==0.9.6', 'xlwings==0.10.2', 'xlwt==1.2.0']\n"
     ]
    }
   ],
   "source": [
    "import pip\n",
    "\n",
    "installed_packages = pip.get_installed_distributions()\n",
    "installed_packages_list = sorted([\"%s==%s\" % (i.key, i.version)\n",
    "     for i in installed_packages])\n",
    "print(installed_packages_list)"
   ]
  },
  {
   "cell_type": "code",
   "execution_count": null,
   "metadata": {
    "collapsed": true
   },
   "outputs": [],
   "source": []
  }
 ],
 "metadata": {
  "kernelspec": {
   "display_name": "Python 3",
   "language": "python",
   "name": "python3"
  },
  "language_info": {
   "codemirror_mode": {
    "name": "ipython",
    "version": 3
   },
   "file_extension": ".py",
   "mimetype": "text/x-python",
   "name": "python",
   "nbconvert_exporter": "python",
   "pygments_lexer": "ipython3",
   "version": "3.6.1"
  }
 },
 "nbformat": 4,
 "nbformat_minor": 2
}
